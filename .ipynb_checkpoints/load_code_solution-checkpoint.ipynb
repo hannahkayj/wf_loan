{
 "cells": [
  {
   "cell_type": "markdown",
   "id": "b47af67c",
   "metadata": {},
   "source": [
    "# Wealthfront Take-Home\n",
    "\n",
    "This notebook is a walk through of code solution for the Sr. Data Science interview homework assignment.\n",
    "\n",
    "<b>Author:</b> Hannah Jones\n",
    "\n",
    "<b>Date:</b> 2023-12-02"
   ]
  },
  {
   "cell_type": "markdown",
   "id": "22f617b7",
   "metadata": {},
   "source": [
    "## Assignment Description\n",
    "\n",
    "You work for a lending company that provides small loans to individual borrowers for 3 or 5 years. The company has collected data on the loans granted in the past few years. Your responsibility is to conduct an analysis of the data and retrieve key data insights as described below.\n",
    "\n",
    "| **row_id**               | **Description**                                                              |\n",
    "|--------------------------|------------------------------------------------------------------------------|\n",
    "| customer_id              | A unique id for the loan borrower                                            |\n",
    "| loan_amount              | The amount of the loan requested by the borrower                             |\n",
    "| funded_amount            | The amount of the loan that was actually provided to the borrower            |\n",
    "| term                     | The term of the loan                                                         |\n",
    "| interest_rate            | The interest rate for the loan                                               |\n",
    "| installment              | The monthly payment                                                          |\n",
    "| emp_length               | Borrower's length of employment at their last job                            |\n",
    "| home_owner               | Borrower's home ownership status                                             |\n",
    "| annual_income            | Borrower's annual income                                                     |\n",
    "| loan_status              | Status of the loan                                                           |\n",
    "| purchase                 | Purpose of the loan                                                          |\n",
    "| addr_state               | Borrower's state of residence                                                |\n",
    "| dti                      | Borrower's debt to income ratio                                              |\n",
    "| delinq_2yrs              | The frequency of the borrower's credit delinquencies in the last 2 years     |\n",
    "| earliest_cr_line         | The date the borrower started his/her first credit line (credit card, etc. ) |\n",
    "| months_since_last_delinq | The number of months since the borrower was last delinquent on a payment     |\n",
    "| open_acc                 | The number of the borrower's open credit accounts                            |\n",
    "| revol_bal                | The borrower's credit card (i.e. revolving credit line) balance              |\n",
    "| total_accounts           | The number of the borrower's total credit accounts                           |\n",
    "| outstanding_principal    | Outstanding principal of the loan                                            |\n",
    "| total_payment            | Total payment on the loan so far                                             |\n",
    "| total_received_principal | Total principal payments received on the loan so far                         |\n",
    "| total_received_interest  | Total interest payments received on the loan so far                          |\n",
    "\n",
    "**Tasks**\n",
    "1. Implement one or more models to predict whether a loan will be \"good\" or \"bad\"\n",
    "2. Assess the performance of your models, using statistics or charts as necessary\n",
    "3. Discuss the implications of your work and any insights you have uncovered"
   ]
  },
  {
   "cell_type": "markdown",
   "id": "9eaf5c83",
   "metadata": {},
   "source": [
    "## Env Set Up"
   ]
  },
  {
   "cell_type": "code",
   "execution_count": 2,
   "id": "4adff0af",
   "metadata": {},
   "outputs": [],
   "source": [
    "import pandas as pd\n",
    "import matplotlib.pyplot as plt\n",
    "import seaborn as sns"
   ]
  },
  {
   "cell_type": "code",
   "execution_count": null,
   "id": "39a4b422",
   "metadata": {},
   "outputs": [],
   "source": [
    "# import csv data"
   ]
  }
 ],
 "metadata": {
  "kernelspec": {
   "display_name": "Python 3 (ipykernel)",
   "language": "python",
   "name": "python3"
  },
  "language_info": {
   "codemirror_mode": {
    "name": "ipython",
    "version": 3
   },
   "file_extension": ".py",
   "mimetype": "text/x-python",
   "name": "python",
   "nbconvert_exporter": "python",
   "pygments_lexer": "ipython3",
   "version": "3.11.5"
  }
 },
 "nbformat": 4,
 "nbformat_minor": 5
}
