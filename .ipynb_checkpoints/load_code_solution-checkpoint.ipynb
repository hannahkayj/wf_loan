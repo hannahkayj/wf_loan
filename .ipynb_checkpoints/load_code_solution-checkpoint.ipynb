{
 "cells": [
  {
   "cell_type": "markdown",
   "id": "b47af67c",
   "metadata": {},
   "source": [
    "# Wealthfront Take-Home\n",
    "\n",
    "This notebook is a walk through of code solution for the Sr. Data Science interview homework assignment.\n",
    "\n",
    "<b>Author:</b> Hannah Jones\n",
    "\n",
    "<b>Date:</b> 2023-12-02"
   ]
  },
  {
   "cell_type": "markdown",
   "id": "9eaf5c83",
   "metadata": {},
   "source": [
    "## Env Set Up"
   ]
  },
  {
   "cell_type": "code",
   "execution_count": null,
   "id": "4adff0af",
   "metadata": {},
   "outputs": [],
   "source": [
    "import pandas as pd\n",
    "import matplotlib.pyplot as plt\n",
    "import seaborn as sns\n"
   ]
  }
 ],
 "metadata": {
  "kernelspec": {
   "display_name": "Python 3 (ipykernel)",
   "language": "python",
   "name": "python3"
  },
  "language_info": {
   "codemirror_mode": {
    "name": "ipython",
    "version": 3
   },
   "file_extension": ".py",
   "mimetype": "text/x-python",
   "name": "python",
   "nbconvert_exporter": "python",
   "pygments_lexer": "ipython3",
   "version": "3.11.5"
  }
 },
 "nbformat": 4,
 "nbformat_minor": 5
}
